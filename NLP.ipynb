{
  "nbformat": 4,
  "nbformat_minor": 0,
  "metadata": {
    "colab": {
      "provenance": [],
      "collapsed_sections": []
    },
    "kernelspec": {
      "name": "python3",
      "display_name": "Python 3"
    },
    "language_info": {
      "name": "python"
    }
  },
  "cells": [
    {
      "cell_type": "code",
      "execution_count": null,
      "metadata": {
        "id": "XpSmjPEktHZJ"
      },
      "outputs": [],
      "source": [
        "n_string = \"This is a String\" "
      ]
    },
    {
      "cell_type": "code",
      "source": [
        "print(id(n_string))# print id of the string"
      ],
      "metadata": {
        "colab": {
          "base_uri": "https://localhost:8080/"
        },
        "id": "ssWoKYUYvsOV",
        "outputId": "0bd8794d-7b7c-4117-e723-bde9be7034da"
      },
      "execution_count": null,
      "outputs": [
        {
          "output_type": "stream",
          "name": "stdout",
          "text": [
            "139807458242432\n"
          ]
        }
      ]
    },
    {
      "cell_type": "code",
      "source": [
        "print(type(n_string)) #print type of the string"
      ],
      "metadata": {
        "colab": {
          "base_uri": "https://localhost:8080/"
        },
        "id": "0Lu2jK5Fv3ok",
        "outputId": "f8fc5c4f-b10b-4853-8b15-630667ec834b"
      },
      "execution_count": null,
      "outputs": [
        {
          "output_type": "stream",
          "name": "stdout",
          "text": [
            "<class 'str'>\n"
          ]
        }
      ]
    },
    {
      "cell_type": "code",
      "source": [
        "print(n_string) #print value of the string"
      ],
      "metadata": {
        "colab": {
          "base_uri": "https://localhost:8080/"
        },
        "id": "Sz8km78gwAk8",
        "outputId": "6de7817b-01ee-4edb-e444-c99e0654a170"
      },
      "execution_count": null,
      "outputs": [
        {
          "output_type": "stream",
          "name": "stdout",
          "text": [
            "This is a String\n"
          ]
        }
      ]
    },
    {
      "cell_type": "code",
      "source": [
        "new_string='hello!'+ \"i am tisha\"\n",
        "print(new_string)"
      ],
      "metadata": {
        "colab": {
          "base_uri": "https://localhost:8080/"
        },
        "id": "CUIwqFPNwUot",
        "outputId": "df8d1389-a41e-4e71-eca8-932e1123f0aa"
      },
      "execution_count": null,
      "outputs": [
        {
          "output_type": "stream",
          "name": "stdout",
          "text": [
            "hello!i am tisha\n"
          ]
        }
      ]
    },
    {
      "cell_type": "code",
      "source": [
        "multiline_string=\"\"\" hello!\n",
        "it's an multiline \n",
        "string\"\"\"\n",
        "multiline_string"
      ],
      "metadata": {
        "colab": {
          "base_uri": "https://localhost:8080/",
          "height": 36
        },
        "id": "NQdyJaFXwyW4",
        "outputId": "054c5bb3-7b6c-44bc-8873-9338289ff551"
      },
      "execution_count": null,
      "outputs": [
        {
          "output_type": "execute_result",
          "data": {
            "text/plain": [
              "\" hello!\\nit's an multiline \\nstring\""
            ],
            "application/vnd.google.colaboratory.intrinsic+json": {
              "type": "string"
            }
          },
          "metadata": {},
          "execution_count": 12
        }
      ]
    },
    {
      "cell_type": "code",
      "source": [
        "print (multiline_string)"
      ],
      "metadata": {
        "colab": {
          "base_uri": "https://localhost:8080/"
        },
        "id": "gTgeKtoVxJcF",
        "outputId": "5c5de6df-9025-4e6c-f8c1-22aa51670b57"
      },
      "execution_count": null,
      "outputs": [
        {
          "output_type": "stream",
          "name": "stdout",
          "text": [
            " hello!\n",
            "it's an multiline \n",
            "string\n"
          ]
        }
      ]
    },
    {
      "cell_type": "code",
      "source": [
        "raw_string = r'C:\\the_folder\\new_dir\\file.txt'\n",
        "print(raw_string)"
      ],
      "metadata": {
        "colab": {
          "base_uri": "https://localhost:8080/"
        },
        "id": "x5nToaVExYS1",
        "outputId": "f27d2aa9-9700-4661-d130-56c3df0b65ef"
      },
      "execution_count": null,
      "outputs": [
        {
          "output_type": "stream",
          "name": "stdout",
          "text": [
            "C:\\the_folder\\new_dir\\file.txt\n"
          ]
        }
      ]
    },
    {
      "cell_type": "code",
      "source": [
        "string_with_unicode = 'H\\u00e8llo!'\n",
        "print(string_with_unicode)\n"
      ],
      "metadata": {
        "colab": {
          "base_uri": "https://localhost:8080/"
        },
        "id": "jGCkpiXuxbY9",
        "outputId": "5edf0f58-dfcf-4132-b1b8-e34619570957"
      },
      "execution_count": null,
      "outputs": [
        {
          "output_type": "stream",
          "name": "stdout",
          "text": [
            "Hèllo!\n"
          ]
        }
      ]
    },
    {
      "cell_type": "code",
      "source": [
        "unicode = 'I love Pizza 🍕!  Shall we book a cab 🚕 to get pizza?'\n",
        "print(unicode)"
      ],
      "metadata": {
        "colab": {
          "base_uri": "https://localhost:8080/"
        },
        "id": "w4XsQ9peyZac",
        "outputId": "b802805b-a0fc-4fba-86f3-662d98c88b74"
      },
      "execution_count": null,
      "outputs": [
        {
          "output_type": "stream",
          "name": "stdout",
          "text": [
            "I love Pizza 🍕!  Shall we book a cab 🚕 to get pizza?\n"
          ]
        }
      ]
    },
    {
      "cell_type": "code",
      "source": [
        "print(string_with_unicode + '\\n' + unicode)"
      ],
      "metadata": {
        "colab": {
          "base_uri": "https://localhost:8080/"
        },
        "id": "EicXfjmRyk9s",
        "outputId": "2c08f454-8961-41b2-9f17-da583e417ebf"
      },
      "execution_count": null,
      "outputs": [
        {
          "output_type": "stream",
          "name": "stdout",
          "text": [
            "Hèllo!\n",
            "I love Pizza 🍕!  Shall we book a cab 🚕 to get pizza?\n"
          ]
        }
      ]
    },
    {
      "cell_type": "code",
      "source": [
        "''.join([string_with_unicode, unicode])"
      ],
      "metadata": {
        "colab": {
          "base_uri": "https://localhost:8080/",
          "height": 36
        },
        "id": "WE9FPxwGypfk",
        "outputId": "dca0ca0a-15a7-40e9-b838-96d1926a434a"
      },
      "execution_count": null,
      "outputs": [
        {
          "output_type": "execute_result",
          "data": {
            "text/plain": [
              "'Hèllo!I love Pizza 🍕!  Shall we book a cab 🚕 to get pizza?'"
            ],
            "application/vnd.google.colaboratory.intrinsic+json": {
              "type": "string"
            }
          },
          "metadata": {},
          "execution_count": 29
        }
      ]
    },
    {
      "cell_type": "code",
      "source": [
        "unicode[::-1]"
      ],
      "metadata": {
        "colab": {
          "base_uri": "https://localhost:8080/",
          "height": 36
        },
        "id": "B1umA8o-zPqW",
        "outputId": "898f123f-ae35-4062-be8b-a152613c03c6"
      },
      "execution_count": null,
      "outputs": [
        {
          "output_type": "execute_result",
          "data": {
            "text/plain": [
              "'?azzip teg ot 🚕 bac a koob ew llahS  !🍕 azziP evol I'"
            ],
            "application/vnd.google.colaboratory.intrinsic+json": {
              "type": "string"
            }
          },
          "metadata": {},
          "execution_count": 30
        }
      ]
    },
    {
      "cell_type": "code",
      "source": [
        "string_with_unicode[::-1]"
      ],
      "metadata": {
        "colab": {
          "base_uri": "https://localhost:8080/",
          "height": 36
        },
        "id": "kUq6uge_zVql",
        "outputId": "02e139a9-7375-4643-f2ae-17d530e78638"
      },
      "execution_count": null,
      "outputs": [
        {
          "output_type": "execute_result",
          "data": {
            "text/plain": [
              "'!ollèH'"
            ],
            "application/vnd.google.colaboratory.intrinsic+json": {
              "type": "string"
            }
          },
          "metadata": {},
          "execution_count": 31
        }
      ]
    },
    {
      "cell_type": "code",
      "source": [
        "#String concatenation\n",
        "'Hello!' +' '+ 'Bangladesh!'"
      ],
      "metadata": {
        "colab": {
          "base_uri": "https://localhost:8080/",
          "height": 36
        },
        "id": "Q_6VRuqOzjS_",
        "outputId": "f0401c7a-19c3-499b-c8ec-9a63603a5f57"
      },
      "execution_count": null,
      "outputs": [
        {
          "output_type": "execute_result",
          "data": {
            "text/plain": [
              "'Hello! Bangladesh!'"
            ],
            "application/vnd.google.colaboratory.intrinsic+json": {
              "type": "string"
            }
          },
          "metadata": {},
          "execution_count": 38
        }
      ]
    },
    {
      "cell_type": "code",
      "source": [
        "'hello' 'welcome' 'to' 'bangladesh'"
      ],
      "metadata": {
        "colab": {
          "base_uri": "https://localhost:8080/",
          "height": 36
        },
        "id": "gzyVj43L0gje",
        "outputId": "5c6ea49a-ec01-4e31-f9cf-ea69ae12b754"
      },
      "execution_count": null,
      "outputs": [
        {
          "output_type": "execute_result",
          "data": {
            "text/plain": [
              "'hellowelcometobangladesh'"
            ],
            "application/vnd.google.colaboratory.intrinsic+json": {
              "type": "string"
            }
          },
          "metadata": {},
          "execution_count": 39
        }
      ]
    },
    {
      "cell_type": "code",
      "source": [
        "s1='welcome to NLP.'\n",
        "'hello!' ' ' + s1"
      ],
      "metadata": {
        "colab": {
          "base_uri": "https://localhost:8080/",
          "height": 36
        },
        "id": "n31oRmg-0uc_",
        "outputId": "9c5cbfb9-4292-413a-c78c-c1daefa2554e"
      },
      "execution_count": null,
      "outputs": [
        {
          "output_type": "execute_result",
          "data": {
            "text/plain": [
              "'hello! welcome to NLP'"
            ],
            "application/vnd.google.colaboratory.intrinsic+json": {
              "type": "string"
            }
          },
          "metadata": {},
          "execution_count": 42
        }
      ]
    },
    {
      "cell_type": "code",
      "source": [
        "S2= 'PYTHON !'\n",
        "S2*5"
      ],
      "metadata": {
        "colab": {
          "base_uri": "https://localhost:8080/",
          "height": 36
        },
        "id": "Yn6mKuih1DoM",
        "outputId": "3cb17e00-c2db-40a3-effd-bb8223cdb1bd"
      },
      "execution_count": null,
      "outputs": [
        {
          "output_type": "execute_result",
          "data": {
            "text/plain": [
              "'PYTHON !PYTHON !PYTHON !PYTHON !PYTHON !'"
            ],
            "application/vnd.google.colaboratory.intrinsic+json": {
              "type": "string"
            }
          },
          "metadata": {},
          "execution_count": 44
        }
      ]
    },
    {
      "cell_type": "code",
      "source": [
        "s1 + S2"
      ],
      "metadata": {
        "colab": {
          "base_uri": "https://localhost:8080/",
          "height": 36
        },
        "id": "2Y0wKce21ZjU",
        "outputId": "880f1cc1-903d-45d0-d0a2-a735abc10222"
      },
      "execution_count": null,
      "outputs": [
        {
          "output_type": "execute_result",
          "data": {
            "text/plain": [
              "'welcome to NLPPYTHON !'"
            ],
            "application/vnd.google.colaboratory.intrinsic+json": {
              "type": "string"
            }
          },
          "metadata": {},
          "execution_count": 47
        }
      ]
    },
    {
      "cell_type": "code",
      "source": [
        "(s1 + S2)*3"
      ],
      "metadata": {
        "colab": {
          "base_uri": "https://localhost:8080/",
          "height": 36
        },
        "id": "uQIPzlrx2t6j",
        "outputId": "ab45da7d-2676-457f-ea5c-e346eb53d3e1"
      },
      "execution_count": null,
      "outputs": [
        {
          "output_type": "execute_result",
          "data": {
            "text/plain": [
              "'welcome to NLPPYTHON !welcome to NLPPYTHON !welcome to NLPPYTHON !'"
            ],
            "application/vnd.google.colaboratory.intrinsic+json": {
              "type": "string"
            }
          },
          "metadata": {},
          "execution_count": 48
        }
      ]
    },
    {
      "cell_type": "code",
      "source": [
        "s3 = ('This '\n",
        "      'is another way '\n",
        "      'to concatenate '\n",
        "      'several strings!')\n",
        "s3"
      ],
      "metadata": {
        "colab": {
          "base_uri": "https://localhost:8080/",
          "height": 36
        },
        "id": "Q7X6vqWE2wa8",
        "outputId": "8b592d6e-626d-4444-a040-5577a7628a90"
      },
      "execution_count": null,
      "outputs": [
        {
          "output_type": "execute_result",
          "data": {
            "text/plain": [
              "'This is another way to concatenate several strings!'"
            ],
            "application/vnd.google.colaboratory.intrinsic+json": {
              "type": "string"
            }
          },
          "metadata": {},
          "execution_count": 49
        }
      ]
    },
    {
      "cell_type": "code",
      "source": [
        "'to' in s3"
      ],
      "metadata": {
        "colab": {
          "base_uri": "https://localhost:8080/"
        },
        "id": "uj4QMoBh24aW",
        "outputId": "8ad5dbaa-5831-40cd-efe9-6cd7dec1037f"
      },
      "execution_count": null,
      "outputs": [
        {
          "output_type": "execute_result",
          "data": {
            "text/plain": [
              "True"
            ]
          },
          "metadata": {},
          "execution_count": 50
        }
      ]
    },
    {
      "cell_type": "code",
      "source": [
        "'python' in s3"
      ],
      "metadata": {
        "colab": {
          "base_uri": "https://localhost:8080/"
        },
        "id": "AD76juGH29Gl",
        "outputId": "0936ab25-bdbf-4690-bda2-35d852b39e61"
      },
      "execution_count": null,
      "outputs": [
        {
          "output_type": "execute_result",
          "data": {
            "text/plain": [
              "False"
            ]
          },
          "metadata": {},
          "execution_count": 51
        }
      ]
    },
    {
      "cell_type": "code",
      "source": [
        "len(s3)"
      ],
      "metadata": {
        "colab": {
          "base_uri": "https://localhost:8080/"
        },
        "id": "a7ybWUhc3Cdw",
        "outputId": "103527d4-ad6d-4fca-af7e-3081c6538ec7"
      },
      "execution_count": null,
      "outputs": [
        {
          "output_type": "execute_result",
          "data": {
            "text/plain": [
              "51"
            ]
          },
          "metadata": {},
          "execution_count": 52
        }
      ]
    },
    {
      "cell_type": "code",
      "source": [
        "#String indexing and slicing"
      ],
      "metadata": {
        "id": "aWf8d-NW3QSk"
      },
      "execution_count": null,
      "outputs": []
    },
    {
      "cell_type": "code",
      "source": [
        "s = 'PYTHON'\n",
        "s, type(s)"
      ],
      "metadata": {
        "colab": {
          "base_uri": "https://localhost:8080/"
        },
        "id": "PX44Hunx3gc1",
        "outputId": "cb9fe13e-c44c-4c5d-e78a-ba8312f0c3ce"
      },
      "execution_count": null,
      "outputs": [
        {
          "output_type": "execute_result",
          "data": {
            "text/plain": [
              "('PYTHON', str)"
            ]
          },
          "metadata": {},
          "execution_count": 53
        }
      ]
    },
    {
      "cell_type": "code",
      "source": [
        "for index, character in enumerate(s):\n",
        "    print('Character ->', character, 'has index->', index)"
      ],
      "metadata": {
        "colab": {
          "base_uri": "https://localhost:8080/"
        },
        "id": "nVFke3Fq3i8M",
        "outputId": "1f29a42e-8991-43ab-80bf-d0a651449a03"
      },
      "execution_count": null,
      "outputs": [
        {
          "output_type": "stream",
          "name": "stdout",
          "text": [
            "Character -> P has index-> 0\n",
            "Character -> Y has index-> 1\n",
            "Character -> T has index-> 2\n",
            "Character -> H has index-> 3\n",
            "Character -> O has index-> 4\n",
            "Character -> N has index-> 5\n"
          ]
        }
      ]
    },
    {
      "cell_type": "code",
      "source": [
        "s[0] , s[1]"
      ],
      "metadata": {
        "colab": {
          "base_uri": "https://localhost:8080/"
        },
        "id": "2gYSftTJ3pZG",
        "outputId": "e6737bbd-a1f7-495a-fd62-016cc84af39b"
      },
      "execution_count": null,
      "outputs": [
        {
          "output_type": "execute_result",
          "data": {
            "text/plain": [
              "('P', 'Y')"
            ]
          },
          "metadata": {},
          "execution_count": 58
        }
      ]
    },
    {
      "cell_type": "code",
      "source": [
        "s[-1], s[-2], s[-3], s[-4], s[-5], s[-6]"
      ],
      "metadata": {
        "colab": {
          "base_uri": "https://localhost:8080/"
        },
        "id": "QFPLSE8H4HEQ",
        "outputId": "c814893b-a535-44fb-fa2f-bd8fdddfc98d"
      },
      "execution_count": null,
      "outputs": [
        {
          "output_type": "execute_result",
          "data": {
            "text/plain": [
              "('N', 'O', 'H', 'T', 'Y', 'P')"
            ]
          },
          "metadata": {},
          "execution_count": 59
        }
      ]
    },
    {
      "cell_type": "code",
      "source": [
        "#String slicing"
      ],
      "metadata": {
        "id": "UNaXD9P74K6-"
      },
      "execution_count": null,
      "outputs": []
    },
    {
      "cell_type": "code",
      "source": [
        "s[:] "
      ],
      "metadata": {
        "colab": {
          "base_uri": "https://localhost:8080/",
          "height": 36
        },
        "id": "ft0zOJMF4TrE",
        "outputId": "5348500b-1e32-4e6c-ef6e-374d2dca9f00"
      },
      "execution_count": null,
      "outputs": [
        {
          "output_type": "execute_result",
          "data": {
            "text/plain": [
              "'PYTHON'"
            ],
            "application/vnd.google.colaboratory.intrinsic+json": {
              "type": "string"
            }
          },
          "metadata": {},
          "execution_count": 60
        }
      ]
    },
    {
      "cell_type": "code",
      "source": [
        "s[1:4]"
      ],
      "metadata": {
        "colab": {
          "base_uri": "https://localhost:8080/",
          "height": 36
        },
        "id": "yKZ3IB8w4WtP",
        "outputId": "7f1fddc6-851a-456d-9932-94312cb205aa"
      },
      "execution_count": null,
      "outputs": [
        {
          "output_type": "execute_result",
          "data": {
            "text/plain": [
              "'YTH'"
            ],
            "application/vnd.google.colaboratory.intrinsic+json": {
              "type": "string"
            }
          },
          "metadata": {},
          "execution_count": 61
        }
      ]
    },
    {
      "cell_type": "code",
      "source": [
        "s[:3], s[3:]"
      ],
      "metadata": {
        "colab": {
          "base_uri": "https://localhost:8080/"
        },
        "id": "kGi4EyXT4gpb",
        "outputId": "fe3a56e2-6b65-44c3-bca5-04833c059da5"
      },
      "execution_count": null,
      "outputs": [
        {
          "output_type": "execute_result",
          "data": {
            "text/plain": [
              "('PYT', 'HON')"
            ]
          },
          "metadata": {},
          "execution_count": 62
        }
      ]
    },
    {
      "cell_type": "code",
      "source": [
        "s[:3] + s[-3:]"
      ],
      "metadata": {
        "colab": {
          "base_uri": "https://localhost:8080/",
          "height": 36
        },
        "id": "qFXWZThl4pq8",
        "outputId": "6119fc52-995e-4a1e-a847-bdc3d649b5ae"
      },
      "execution_count": null,
      "outputs": [
        {
          "output_type": "execute_result",
          "data": {
            "text/plain": [
              "'PYTHON'"
            ],
            "application/vnd.google.colaboratory.intrinsic+json": {
              "type": "string"
            }
          },
          "metadata": {},
          "execution_count": 63
        }
      ]
    },
    {
      "cell_type": "code",
      "source": [
        "s[-3:]"
      ],
      "metadata": {
        "colab": {
          "base_uri": "https://localhost:8080/",
          "height": 36
        },
        "id": "TARcjm7e4v78",
        "outputId": "e79b4a88-8bda-4ef9-df94-1c75e24e6939"
      },
      "execution_count": null,
      "outputs": [
        {
          "output_type": "execute_result",
          "data": {
            "text/plain": [
              "'HON'"
            ],
            "application/vnd.google.colaboratory.intrinsic+json": {
              "type": "string"
            }
          },
          "metadata": {},
          "execution_count": 64
        }
      ]
    },
    {
      "cell_type": "code",
      "source": [
        "s[::1]"
      ],
      "metadata": {
        "colab": {
          "base_uri": "https://localhost:8080/",
          "height": 36
        },
        "id": "2WAzniLo41i0",
        "outputId": "ce33db80-d697-4ec0-807f-a26324a1d702"
      },
      "execution_count": null,
      "outputs": [
        {
          "output_type": "execute_result",
          "data": {
            "text/plain": [
              "'PYTHON'"
            ],
            "application/vnd.google.colaboratory.intrinsic+json": {
              "type": "string"
            }
          },
          "metadata": {},
          "execution_count": 65
        }
      ]
    },
    {
      "cell_type": "code",
      "source": [
        "s[::2]"
      ],
      "metadata": {
        "colab": {
          "base_uri": "https://localhost:8080/",
          "height": 36
        },
        "id": "owfhxwAb49HV",
        "outputId": "b77928c4-9e25-444a-881c-82a9244c6bd6"
      },
      "execution_count": null,
      "outputs": [
        {
          "output_type": "execute_result",
          "data": {
            "text/plain": [
              "'PTO'"
            ],
            "application/vnd.google.colaboratory.intrinsic+json": {
              "type": "string"
            }
          },
          "metadata": {},
          "execution_count": 66
        }
      ]
    },
    {
      "cell_type": "code",
      "source": [
        "s[::3]"
      ],
      "metadata": {
        "colab": {
          "base_uri": "https://localhost:8080/",
          "height": 36
        },
        "id": "uezEzsK05BB-",
        "outputId": "7693c31d-5f3c-4cd8-b0c7-b108de4e7736"
      },
      "execution_count": null,
      "outputs": [
        {
          "output_type": "execute_result",
          "data": {
            "text/plain": [
              "'PH'"
            ],
            "application/vnd.google.colaboratory.intrinsic+json": {
              "type": "string"
            }
          },
          "metadata": {},
          "execution_count": 67
        }
      ]
    },
    {
      "cell_type": "code",
      "source": [
        "s = 'X' + s[1:]\n",
        "s"
      ],
      "metadata": {
        "colab": {
          "base_uri": "https://localhost:8080/",
          "height": 36
        },
        "id": "Cv1I6Roj5Eo0",
        "outputId": "51d4e4f5-1cac-421e-b964-2fd20e3e50eb"
      },
      "execution_count": null,
      "outputs": [
        {
          "output_type": "execute_result",
          "data": {
            "text/plain": [
              "'XYTHON'"
            ],
            "application/vnd.google.colaboratory.intrinsic+json": {
              "type": "string"
            }
          },
          "metadata": {},
          "execution_count": 70
        }
      ]
    },
    {
      "cell_type": "code",
      "source": [
        "s = 'python is great'\n",
        "s.upper()"
      ],
      "metadata": {
        "colab": {
          "base_uri": "https://localhost:8080/",
          "height": 36
        },
        "id": "G2WjVsxI5fon",
        "outputId": "b3a71126-53e8-4b85-829d-24c89c83955b"
      },
      "execution_count": null,
      "outputs": [
        {
          "output_type": "execute_result",
          "data": {
            "text/plain": [
              "'PYTHON IS GREAT'"
            ],
            "application/vnd.google.colaboratory.intrinsic+json": {
              "type": "string"
            }
          },
          "metadata": {},
          "execution_count": 71
        }
      ]
    },
    {
      "cell_type": "code",
      "source": [
        "s.capitalize()"
      ],
      "metadata": {
        "colab": {
          "base_uri": "https://localhost:8080/",
          "height": 36
        },
        "id": "SvgU6diO5lGl",
        "outputId": "1559f396-7eec-4e22-e284-1ed09318f5a5"
      },
      "execution_count": null,
      "outputs": [
        {
          "output_type": "execute_result",
          "data": {
            "text/plain": [
              "'Python is great'"
            ],
            "application/vnd.google.colaboratory.intrinsic+json": {
              "type": "string"
            }
          },
          "metadata": {},
          "execution_count": 72
        }
      ]
    },
    {
      "cell_type": "code",
      "source": [
        "s.title()"
      ],
      "metadata": {
        "colab": {
          "base_uri": "https://localhost:8080/",
          "height": 36
        },
        "id": "9gGV2fdy5sNG",
        "outputId": "d340109d-ca99-467a-a6ba-3077c9ea4529"
      },
      "execution_count": null,
      "outputs": [
        {
          "output_type": "execute_result",
          "data": {
            "text/plain": [
              "'Python Is Great'"
            ],
            "application/vnd.google.colaboratory.intrinsic+json": {
              "type": "string"
            }
          },
          "metadata": {},
          "execution_count": 73
        }
      ]
    },
    {
      "cell_type": "code",
      "source": [
        "s.replace('python','Nlp')"
      ],
      "metadata": {
        "colab": {
          "base_uri": "https://localhost:8080/",
          "height": 36
        },
        "id": "A7RHdKia5xE8",
        "outputId": "0239cc7b-0d78-44af-e648-1518ad1c4026"
      },
      "execution_count": null,
      "outputs": [
        {
          "output_type": "execute_result",
          "data": {
            "text/plain": [
              "'Nlp is great'"
            ],
            "application/vnd.google.colaboratory.intrinsic+json": {
              "type": "string"
            }
          },
          "metadata": {},
          "execution_count": 75
        }
      ]
    },
    {
      "cell_type": "code",
      "source": [
        "'123'.isdecimal()"
      ],
      "metadata": {
        "colab": {
          "base_uri": "https://localhost:8080/"
        },
        "id": "awRs_MAz51pO",
        "outputId": "f5f553db-f3c8-4970-cb28-3d9d2ff9a4c9"
      },
      "execution_count": null,
      "outputs": [
        {
          "output_type": "execute_result",
          "data": {
            "text/plain": [
              "True"
            ]
          },
          "metadata": {},
          "execution_count": 77
        }
      ]
    },
    {
      "cell_type": "code",
      "source": [
        "'str'.isdecimal()"
      ],
      "metadata": {
        "colab": {
          "base_uri": "https://localhost:8080/"
        },
        "id": "SnjplJfq6KfV",
        "outputId": "3ee817e5-93ee-4525-999e-98ae200b2df7"
      },
      "execution_count": null,
      "outputs": [
        {
          "output_type": "execute_result",
          "data": {
            "text/plain": [
              "False"
            ]
          },
          "metadata": {},
          "execution_count": 80
        }
      ]
    },
    {
      "cell_type": "code",
      "source": [
        "'python'.isalpha()"
      ],
      "metadata": {
        "colab": {
          "base_uri": "https://localhost:8080/"
        },
        "id": "PZPeJCVW6blM",
        "outputId": "efdc62a3-f58b-4dac-b22c-f074c9c969df"
      },
      "execution_count": null,
      "outputs": [
        {
          "output_type": "execute_result",
          "data": {
            "text/plain": [
              "True"
            ]
          },
          "metadata": {},
          "execution_count": 81
        }
      ]
    },
    {
      "cell_type": "code",
      "source": [
        "'number1'.isalpha()"
      ],
      "metadata": {
        "colab": {
          "base_uri": "https://localhost:8080/"
        },
        "id": "Szfy-OVi6fJF",
        "outputId": "cebffd96-777a-471c-ab67-5927aa791da0"
      },
      "execution_count": null,
      "outputs": [
        {
          "output_type": "execute_result",
          "data": {
            "text/plain": [
              "False"
            ]
          },
          "metadata": {},
          "execution_count": 82
        }
      ]
    },
    {
      "cell_type": "code",
      "source": [
        "'abc123'.isalnum()"
      ],
      "metadata": {
        "colab": {
          "base_uri": "https://localhost:8080/"
        },
        "id": "oteL6cw86pkd",
        "outputId": "e33180b9-b509-4a53-db69-548add347f26"
      },
      "execution_count": null,
      "outputs": [
        {
          "output_type": "execute_result",
          "data": {
            "text/plain": [
              "True"
            ]
          },
          "metadata": {},
          "execution_count": 83
        }
      ]
    },
    {
      "cell_type": "code",
      "source": [
        "s = 'I,am,a,comma,separated,string'\n",
        "s.split(',')"
      ],
      "metadata": {
        "colab": {
          "base_uri": "https://localhost:8080/"
        },
        "id": "kEBZIN1162Ju",
        "outputId": "a6e01eba-2e1e-4b09-fc03-894ea546cd61"
      },
      "execution_count": null,
      "outputs": [
        {
          "output_type": "execute_result",
          "data": {
            "text/plain": [
              "['I', 'am', 'a', 'comma', 'separated', 'string']"
            ]
          },
          "metadata": {},
          "execution_count": 84
        }
      ]
    },
    {
      "cell_type": "code",
      "source": [
        "''.join(s.split(','))"
      ],
      "metadata": {
        "id": "Xa3vcKpL63yW"
      },
      "execution_count": null,
      "outputs": []
    },
    {
      "cell_type": "code",
      "source": [
        "s = '   I am surrounded by spaces    '\n",
        "s"
      ],
      "metadata": {
        "colab": {
          "base_uri": "https://localhost:8080/",
          "height": 36
        },
        "id": "Js_WiYkB7LuV",
        "outputId": "c13063db-f459-4824-9903-7bd31dff260c"
      },
      "execution_count": null,
      "outputs": [
        {
          "output_type": "execute_result",
          "data": {
            "text/plain": [
              "'   I am surrounded by spaces    '"
            ],
            "application/vnd.google.colaboratory.intrinsic+json": {
              "type": "string"
            }
          },
          "metadata": {},
          "execution_count": 86
        }
      ]
    },
    {
      "cell_type": "code",
      "source": [
        "s.strip()"
      ],
      "metadata": {
        "colab": {
          "base_uri": "https://localhost:8080/",
          "height": 36
        },
        "id": "5dznnlst7QVP",
        "outputId": "bbafca89-a092-4256-aa43-c0e039318796"
      },
      "execution_count": null,
      "outputs": [
        {
          "output_type": "execute_result",
          "data": {
            "text/plain": [
              "'I am surrounded by spaces'"
            ],
            "application/vnd.google.colaboratory.intrinsic+json": {
              "type": "string"
            }
          },
          "metadata": {},
          "execution_count": 88
        }
      ]
    },
    {
      "cell_type": "code",
      "source": [
        "sentences = 'Python is great. NLP is also good.'\n",
        "sentences.split('.')"
      ],
      "metadata": {
        "colab": {
          "base_uri": "https://localhost:8080/"
        },
        "id": "d7BwAhbY7j5F",
        "outputId": "ab42aa7a-9cdb-426f-90ec-cf9798487deb"
      },
      "execution_count": null,
      "outputs": [
        {
          "output_type": "execute_result",
          "data": {
            "text/plain": [
              "['Python is great', ' NLP is also good', '']"
            ]
          },
          "metadata": {},
          "execution_count": 89
        }
      ]
    },
    {
      "cell_type": "code",
      "source": [
        "print('\\n'.join(sentences.split('.')))"
      ],
      "metadata": {
        "colab": {
          "base_uri": "https://localhost:8080/"
        },
        "id": "eN9vCb5c7mZO",
        "outputId": "bf977a4b-870c-46cd-daee-e5a85aa14323"
      },
      "execution_count": null,
      "outputs": [
        {
          "output_type": "stream",
          "name": "stdout",
          "text": [
            "Python is great\n",
            " NLP is also good\n",
            "\n"
          ]
        }
      ]
    },
    {
      "cell_type": "code",
      "source": [
        "s=\"i, am, bushra\"\n",
        "s.split(',')"
      ],
      "metadata": {
        "colab": {
          "base_uri": "https://localhost:8080/"
        },
        "id": "Nd7amnQ_7vj1",
        "outputId": "4b282d48-5ae1-491a-b549-cd14ab3e7dca"
      },
      "execution_count": null,
      "outputs": [
        {
          "output_type": "execute_result",
          "data": {
            "text/plain": [
              "['i', ' am', ' bushra']"
            ]
          },
          "metadata": {},
          "execution_count": 98
        }
      ]
    },
    {
      "cell_type": "code",
      "source": [],
      "metadata": {
        "id": "Hh-PMt87_2mE"
      },
      "execution_count": null,
      "outputs": []
    },
    {
      "cell_type": "code",
      "source": [
        "''.join(s.split(\",\"))"
      ],
      "metadata": {
        "colab": {
          "base_uri": "https://localhost:8080/",
          "height": 36
        },
        "id": "Mm-WfVNF-drM",
        "outputId": "9c489933-1c13-4836-883f-a0d6abe7c8cc"
      },
      "execution_count": null,
      "outputs": [
        {
          "output_type": "execute_result",
          "data": {
            "text/plain": [
              "'i ambushra'"
            ],
            "application/vnd.google.colaboratory.intrinsic+json": {
              "type": "string"
            }
          },
          "metadata": {},
          "execution_count": 97
        }
      ]
    },
    {
      "cell_type": "code",
      "source": [
        "'hello %s' %('python!')"
      ],
      "metadata": {
        "colab": {
          "base_uri": "https://localhost:8080/",
          "height": 36
        },
        "id": "9n6z2AMpAPbM",
        "outputId": "bdd58bb9-1c1f-4393-9c88-3bfd1dbaa572"
      },
      "execution_count": null,
      "outputs": [
        {
          "output_type": "execute_result",
          "data": {
            "text/plain": [
              "'hello python!'"
            ],
            "application/vnd.google.colaboratory.intrinsic+json": {
              "type": "string"
            }
          },
          "metadata": {},
          "execution_count": 104
        }
      ]
    },
    {
      "cell_type": "code",
      "source": [
        "'hello %s %s' %('welcome','home')"
      ],
      "metadata": {
        "colab": {
          "base_uri": "https://localhost:8080/",
          "height": 36
        },
        "id": "PCNaRFNlAdTl",
        "outputId": "6ba2aefe-ebc8-403d-bf68-86671e3459b3"
      },
      "execution_count": null,
      "outputs": [
        {
          "output_type": "execute_result",
          "data": {
            "text/plain": [
              "'hello welcome home'"
            ],
            "application/vnd.google.colaboratory.intrinsic+json": {
              "type": "string"
            }
          },
          "metadata": {},
          "execution_count": 107
        }
      ]
    },
    {
      "cell_type": "code",
      "source": [
        "'hello we have {} ,{} item in our {}'.format(\"burger\",\"sandwitch\",\"restuaruant\")"
      ],
      "metadata": {
        "colab": {
          "base_uri": "https://localhost:8080/",
          "height": 36
        },
        "id": "BbfJkdeJBR3Y",
        "outputId": "64a6843b-e06a-4a3a-8e1d-27b8a308c03d"
      },
      "execution_count": null,
      "outputs": [
        {
          "output_type": "execute_result",
          "data": {
            "text/plain": [
              "'hello we have burger ,sandwitch item in our restuaruant'"
            ],
            "application/vnd.google.colaboratory.intrinsic+json": {
              "type": "string"
            }
          },
          "metadata": {},
          "execution_count": 109
        }
      ]
    },
    {
      "cell_type": "code",
      "source": [
        "'hello we have {food_item},{drinks_item} in our {res}'.format(food_item=\"burger\",drinks_item=\"cocacola\",res=\"hotel\")"
      ],
      "metadata": {
        "colab": {
          "base_uri": "https://localhost:8080/",
          "height": 36
        },
        "id": "8JAMvfx-BqR_",
        "outputId": "059debe4-d36d-49f3-c485-f70b793b0ae2"
      },
      "execution_count": null,
      "outputs": [
        {
          "output_type": "execute_result",
          "data": {
            "text/plain": [
              "'hello we haveburger,cocacola in our hotel'"
            ],
            "application/vnd.google.colaboratory.intrinsic+json": {
              "type": "string"
            }
          },
          "metadata": {},
          "execution_count": 110
        }
      ]
    },
    {
      "cell_type": "code",
      "source": [
        "import re"
      ],
      "metadata": {
        "id": "oD9nky0SCQNd"
      },
      "execution_count": null,
      "outputs": []
    },
    {
      "cell_type": "code",
      "source": [
        "s1 = 'Python is an excellent language'\n",
        "s2 = 'I love the Python language. I also use Python to build applications at work!'"
      ],
      "metadata": {
        "id": "WnUchRICDPFE"
      },
      "execution_count": null,
      "outputs": []
    },
    {
      "cell_type": "code",
      "source": [
        "pattern='Python'\n",
        "re.match(pattern,s1)\n",
        "re.match(pattern,s1,flags=re.IGNORECASE)"
      ],
      "metadata": {
        "colab": {
          "base_uri": "https://localhost:8080/"
        },
        "id": "-UhTo84YDZO3",
        "outputId": "9ba040df-a6d6-4443-bf5a-d5ba9c15ae52"
      },
      "execution_count": null,
      "outputs": [
        {
          "output_type": "execute_result",
          "data": {
            "text/plain": [
              "<re.Match object; span=(0, 6), match='Python'>"
            ]
          },
          "metadata": {},
          "execution_count": 126
        }
      ]
    },
    {
      "cell_type": "code",
      "source": [
        "pattern2='language'"
      ],
      "metadata": {
        "id": "ynaL3TNEFQwW"
      },
      "execution_count": null,
      "outputs": []
    },
    {
      "cell_type": "code",
      "source": [
        "re.match(pattern,s1,flags=re.IGNORECASE)"
      ],
      "metadata": {
        "colab": {
          "base_uri": "https://localhost:8080/"
        },
        "id": "2ZV2_VBrE9zc",
        "outputId": "29615720-9759-4987-dde0-84cde50e7043"
      },
      "execution_count": null,
      "outputs": [
        {
          "output_type": "execute_result",
          "data": {
            "text/plain": [
              "<re.Match object; span=(0, 6), match='Python'>"
            ]
          },
          "metadata": {},
          "execution_count": 125
        }
      ]
    },
    {
      "cell_type": "code",
      "source": [
        "re.match(pattern, s2, re.IGNORECASE)"
      ],
      "metadata": {
        "id": "FsjY_GV7EUJV"
      },
      "execution_count": null,
      "outputs": []
    },
    {
      "cell_type": "code",
      "source": [
        "re.search(pattern,s2,re.I)"
      ],
      "metadata": {
        "colab": {
          "base_uri": "https://localhost:8080/"
        },
        "id": "MXTcm1kfEru2",
        "outputId": "f25930c7-4de8-47d9-fba3-2184a9984453"
      },
      "execution_count": null,
      "outputs": [
        {
          "output_type": "execute_result",
          "data": {
            "text/plain": [
              "<re.Match object; span=(11, 17), match='Python'>"
            ]
          },
          "metadata": {},
          "execution_count": 118
        }
      ]
    },
    {
      "cell_type": "code",
      "source": [
        "re.findall(pattern, s2, re.IGNORECASE)"
      ],
      "metadata": {
        "colab": {
          "base_uri": "https://localhost:8080/"
        },
        "id": "ZQrOsa5BFRyF",
        "outputId": "aceade2e-6001-4f6c-d828-32b2e0f23c9a"
      },
      "execution_count": null,
      "outputs": [
        {
          "output_type": "execute_result",
          "data": {
            "text/plain": [
              "['Python', 'Python']"
            ]
          },
          "metadata": {},
          "execution_count": 127
        }
      ]
    },
    {
      "cell_type": "code",
      "source": [
        "re.findall(pattern, s1, re.IGNORECASE)"
      ],
      "metadata": {
        "colab": {
          "base_uri": "https://localhost:8080/"
        },
        "id": "SPqR2DRtFU-N",
        "outputId": "8c38f86c-18b9-4857-9275-d0638c553301"
      },
      "execution_count": null,
      "outputs": [
        {
          "output_type": "execute_result",
          "data": {
            "text/plain": [
              "['Python']"
            ]
          },
          "metadata": {},
          "execution_count": 128
        }
      ]
    },
    {
      "cell_type": "code",
      "source": [
        "match_objs = re.finditer(pattern2, s2, re.IGNORECASE)\n",
        "match_objs"
      ],
      "metadata": {
        "colab": {
          "base_uri": "https://localhost:8080/"
        },
        "id": "K_BBS76yGcVO",
        "outputId": "0ccd954d-3aeb-4c65-be88-0bd5c3b35173"
      },
      "execution_count": null,
      "outputs": [
        {
          "output_type": "execute_result",
          "data": {
            "text/plain": [
              "<callable_iterator at 0x7f27697a3c90>"
            ]
          },
          "metadata": {},
          "execution_count": 132
        }
      ]
    },
    {
      "cell_type": "code",
      "source": [
        "match_objs = re.finditer(pattern, s2, re.IGNORECASE)\n",
        "match_objs"
      ],
      "metadata": {
        "colab": {
          "base_uri": "https://localhost:8080/"
        },
        "id": "YgU2UBdGGvHa",
        "outputId": "851ffb33-bba0-4bc3-f7ce-6b5370207b49"
      },
      "execution_count": null,
      "outputs": [
        {
          "output_type": "execute_result",
          "data": {
            "text/plain": [
              "<callable_iterator at 0x7f276974fb50>"
            ]
          },
          "metadata": {},
          "execution_count": 133
        }
      ]
    },
    {
      "cell_type": "code",
      "source": [
        "re.sub(pattern, 'Java', s2, flags=re.IGNORECASE)"
      ],
      "metadata": {
        "colab": {
          "base_uri": "https://localhost:8080/",
          "height": 36
        },
        "id": "VpZUW1X0IdQb",
        "outputId": "a4d00c23-949d-470a-a41f-3622490181f6"
      },
      "execution_count": null,
      "outputs": [
        {
          "output_type": "execute_result",
          "data": {
            "text/plain": [
              "'I love the Java language. I also use Java to build applications at work!'"
            ],
            "application/vnd.google.colaboratory.intrinsic+json": {
              "type": "string"
            }
          },
          "metadata": {},
          "execution_count": 134
        }
      ]
    },
    {
      "cell_type": "code",
      "source": [
        "re.subn(pattern, 'Java', s2, flags=re.IGNORECASE)"
      ],
      "metadata": {
        "colab": {
          "base_uri": "https://localhost:8080/"
        },
        "id": "GDf0KNuQIfN8",
        "outputId": "c9607e4f-8a1c-4534-ac82-ece9e28f9f0a"
      },
      "execution_count": null,
      "outputs": [
        {
          "output_type": "execute_result",
          "data": {
            "text/plain": [
              "('I love the Java language. I also use Java to build applications at work!', 2)"
            ]
          },
          "metadata": {},
          "execution_count": 135
        }
      ]
    },
    {
      "cell_type": "code",
      "source": [
        "import re\n",
        "text = 'The quick brown fox jumps over the lazy dog.'\n",
        "print(re.findall(r\"\\b\\w{5}\\b\", text))"
      ],
      "metadata": {
        "colab": {
          "base_uri": "https://localhost:8080/"
        },
        "id": "6zPpZzNa4ihh",
        "outputId": "92bc088f-2687-4227-eba0-fcb7035814c2"
      },
      "execution_count": 14,
      "outputs": [
        {
          "output_type": "stream",
          "name": "stdout",
          "text": [
            "['quick', 'brown', 'jumps']\n"
          ]
        }
      ]
    },
    {
      "cell_type": "markdown",
      "source": [
        "Words which contains 5 letters "
      ],
      "metadata": {
        "id": "b4faaBeRBxYa"
      }
    },
    {
      "cell_type": "code",
      "source": [
        "text='my name is tisha, i study hard,i love candy.'\n",
        "print(re.findall(r\"\\b\\w{5}\\b\",text))"
      ],
      "metadata": {
        "colab": {
          "base_uri": "https://localhost:8080/"
        },
        "id": "xu5T5rsZ4mGb",
        "outputId": "2d2c80f8-5596-445b-f010-26b5b98975ba"
      },
      "execution_count": 15,
      "outputs": [
        {
          "output_type": "stream",
          "name": "stdout",
          "text": [
            "['tisha', 'study', 'candy']\n"
          ]
        }
      ]
    },
    {
      "cell_type": "code",
      "source": [
        "text='life,is a journey,Go ahead.'\n",
        "print(re.sub(\"[,.]\",\":\",text,2))"
      ],
      "metadata": {
        "colab": {
          "base_uri": "https://localhost:8080/"
        },
        "id": "CKYtnDHL75Qa",
        "outputId": "89e17fb9-104b-4329-ca22-b4aa82bb8a3f"
      },
      "execution_count": 17,
      "outputs": [
        {
          "output_type": "stream",
          "name": "stdout",
          "text": [
            "life:is a journey:Go ahead.\n"
          ]
        }
      ]
    },
    {
      "cell_type": "markdown",
      "source": [
        "Numeric Digit finding"
      ],
      "metadata": {
        "id": "3AT-44lYBL2w"
      }
    },
    {
      "cell_type": "code",
      "source": [
        "s = 'My 2 favourite numbers are 7 and 10'\n",
        "digit=re.findall('[0-9]+',s)\n",
        "digit"
      ],
      "metadata": {
        "colab": {
          "base_uri": "https://localhost:8080/"
        },
        "id": "Wf6kBwBoBIvT",
        "outputId": "d982f9cd-2981-4148-87bc-2c53ab8582ab"
      },
      "execution_count": 24,
      "outputs": [
        {
          "output_type": "execute_result",
          "data": {
            "text/plain": [
              "['2', '7', '10']"
            ]
          },
          "metadata": {},
          "execution_count": 24
        }
      ]
    },
    {
      "cell_type": "markdown",
      "source": [
        "Email address finding"
      ],
      "metadata": {
        "id": "9Hd8SvxvBodv"
      }
    },
    {
      "cell_type": "code",
      "source": [
        "s = \"\"\"Hello from nnts199630@gmail.com\n",
        "        to tisya@yahoo.com about the meeting @2PM\"\"\""
      ],
      "metadata": {
        "id": "P627mTKX-pTL"
      },
      "execution_count": 18,
      "outputs": []
    },
    {
      "cell_type": "code",
      "source": [
        "email = re.findall('\\S+@\\S+', s) \n",
        "print(email) "
      ],
      "metadata": {
        "colab": {
          "base_uri": "https://localhost:8080/"
        },
        "id": "ESX0KLOg_CmW",
        "outputId": "3ab1b094-8968-479d-a1dc-be2316ab339d"
      },
      "execution_count": 21,
      "outputs": [
        {
          "output_type": "stream",
          "name": "stdout",
          "text": [
            "['nnts199630@gmail.com', 'tisya@yahoo.com']\n"
          ]
        }
      ]
    }
  ]
}